{
 "cells": [
  {
   "cell_type": "code",
   "execution_count": 1,
   "metadata": {
    "collapsed": true,
    "pycharm": {
     "is_executing": false
    }
   },
   "outputs": [
    {
     "data": {
      "text/plain": "array(['C:\\\\SoftwareFilePath\\\\Python_code\\\\L2RPN_NIPS_2020_a_PPO_Solution\\\\training_data_track1\\\\chronics\\\\Scenario_august_dummly',\n       'C:\\\\SoftwareFilePath\\\\Python_code\\\\L2RPN_NIPS_2020_a_PPO_Solution\\\\training_data_track1\\\\chronics\\\\Scenario_february_dummy'],\n      dtype='<U116')"
     },
     "metadata": {},
     "output_type": "execute_result",
     "execution_count": 1
    }
   ],
   "source": [
    "import os\n",
    "import time\n",
    "import random\n",
    "import grid2op\n",
    "import numpy as np\n",
    "import pandas as pd\n",
    "\n",
    "\n",
    "DATA_PATH = '../training_data_track1'  # for demo only, use your own dataset 即使用的环境\n",
    "SCENARIO_PATH = '../training_data_track1/chronics'\n",
    "SAVE_PATH = './'\n",
    "LINES2ATTACK = [45, 56, 0, 9, 13, 14, 18, 23, 27, 39]\n",
    "NUM_EPISODES = 1000  # each scenario runs 100 times for each attack (or to say, sample 100 points)\n",
    "\n",
    "env = grid2op.make(dataset=DATA_PATH, chronics_path=SCENARIO_PATH)\n",
    "env.chronics_handler.shuffle()\n"
   ]
  },
  {
   "cell_type": "code",
   "execution_count": 2,
   "outputs": [
    {
     "name": "stdout",
     "text": [
      "\n\n**************************************************\nScenario[Scenario_february_dummy]: at step[2], disconnect line-45(from bus-30 to bus-31]\n"
     ],
     "output_type": "stream"
    }
   ],
   "source": [
    "episode=0\n",
    "line_to_disconnect=45\n",
    "env.reset()\n",
    "dst_step = episode * 72 + random.randint(0, 72)  # a random sampling every 6 hours\n",
    "print('\\n\\n' + '*' * 50 + '\\nScenario[%s]: at step[%d], disconnect line-%d(from bus-%d to bus-%d]' % (\n",
    "                    env.chronics_handler.get_name(), dst_step, line_to_disconnect,\n",
    "                    env.line_or_to_subid[line_to_disconnect], env.line_ex_to_subid[line_to_disconnect]))"
   ],
   "metadata": {
    "collapsed": false,
    "pycharm": {
     "name": "#%%\n",
     "is_executing": false
    }
   }
  },
  {
   "cell_type": "code",
   "execution_count": 3,
   "outputs": [
    {
     "name": "stdout",
     "text": [
      "observation-rho:[0.32687443 0.5535465  0.15082124 0.392285   0.5880148  0.2055941\n 0.22000377 0.28082854 0.25977316 0.28769705 0.3221564  0.87557036\n 0.510371   0.84048975 0.36942652 0.440951   0.21283472 0.14496417\n 0.5547818  0.5547818  0.57550055 0.38268113 0.9084918  0.90736955\n 0.51753277 0.5090575  0.38881963 0.5170754  0.51783544 0.19138987\n 0.06299757 0.4798957  0.885958   0.89250934 0.8634984  0.8859001\n 0.42496544 0.42947268 0.4292409  0.81567276 0.4912671  0.86378396\n 0.47642875 0.26007125 0.13412376 0.619121   0.5006424  0.62390196\n 0.36599004 0.36599004 0.5196889  0.51130414 0.5216738  0.40902066\n 0.38994798 0.64865685 0.619121   0.63047916 0.7029415 ]\n"
     ],
     "output_type": "stream"
    }
   ],
   "source": [
    "env.fast_forward_chronics(dst_step - 1)\n",
    "obs, reward, done, _ = env.step(env.action_space({}))\n",
    "print('observation-rho:{}'.format(obs.rho))"
   ],
   "metadata": {
    "collapsed": false,
    "pycharm": {
     "name": "#%%\n",
     "is_executing": false
    }
   }
  },
  {
   "cell_type": "code",
   "execution_count": 4,
   "outputs": [
    {
     "name": "stdout",
     "text": [
      "obesercation.rho.shape:(59,)\nnew_line_status_array:[ 0.  0.  0.  0.  0.  0.  0.  0.  0.  0.  0.  0.  0.  0.  0.  0.  0.  0.\n  0.  0.  0.  0.  0.  0.  0.  0.  0.  0.  0.  0.  0.  0.  0.  0.  0.  0.\n  0.  0.  0.  0.  0.  0.  0.  0.  0. -1.  0.  0.  0.  0.  0.  0.  0.  0.\n  0.  0.  0.  0.  0.]\n"
     ],
     "output_type": "stream"
    }
   ],
   "source": [
    "new_line_status_array = np.zeros(obs.rho.shape)\n",
    "new_line_status_array[line_to_disconnect] = -1\n",
    "print(\"obesercation.rho.shape:{}\".format(obs.rho.shape))\n",
    "print(\"new_line_status_array:{}\".format(new_line_status_array))\n",
    "\n"
   ],
   "metadata": {
    "collapsed": false,
    "pycharm": {
     "name": "#%%\n",
     "is_executing": false
    }
   }
  },
  {
   "cell_type": "code",
   "execution_count": 5,
   "outputs": [
    {
     "name": "stdout",
     "text": [
      "action:This action will:\n\t - NOT change anything to the injections\n\t - NOT perform any redispatching action\n\t - force disconnection of 1 powerlines ([45])\n\t - NOT switch any line status\n\t - NOT switch anything in the topology\n\t - NOT force any particular bus configuration\naction_dict:{'set_line_status': {'nb_connected': 0, 'nb_disconnected': 1, 'connected_id': array([], dtype=int64), 'disconnected_id': array([45], dtype=int64)}}\n"
     ],
     "output_type": "stream"
    }
   ],
   "source": [
    "action = env.action_space({\"set_line_status\": new_line_status_array})\n",
    "obs, reward, done, _ = env.step(action)\n",
    "print(\"action:{}\".format(action))\n",
    "print(\"action_dict:{}\".format(action.as_dict()))"
   ],
   "metadata": {
    "collapsed": false,
    "pycharm": {
     "name": "#%%\n",
     "is_executing": false
    }
   }
  },
  {
   "cell_type": "code",
   "execution_count": 6,
   "outputs": [],
   "source": [
    "all_actions = env.action_space.get_all_unitary_topologies_change(env.action_space)"
   ],
   "metadata": {
    "collapsed": false,
    "pycharm": {
     "name": "#%%\n",
     "is_executing": false
    }
   }
  },
  {
   "cell_type": "code",
   "execution_count": 7,
   "outputs": [
    {
     "name": "stdout",
     "text": [
      "all_actions[0]:This action will:\n\t - NOT change anything to the injections\n\t - NOT perform any redispatching action\n\t - NOT force any line status\n\t - NOT switch any line status\n\t - Change the bus of the following element:\n\t \t - switch bus of load 1 [on substation 0]\n\t - NOT force any particular bus configuration\nall_actions[0]_asdict:{'change_bus_vect': {'nb_modif_objects': 1, '0': {'1': {'type': 'load'}}, 'nb_modif_subs': 1, 'modif_subs_id': ['0']}}\n\n\n\naction1.as_dict()['change_bus_vect']['modif_subs_id']:0\n\n\n\ndict_items([('1', {'type': 'load'})])\n"
     ],
     "output_type": "stream"
    }
   ],
   "source": [
    "print(\"all_actions[0]:{}\".format(all_actions[0]))\n",
    "print(\"all_actions[0]_asdict:{}\".format(all_actions[0].as_dict()))\n",
    "action1=all_actions[0]\n",
    "# action1.as_dict()['change_bus_vect'][action.as_dict()['change_bus_vect']['modif_subs_id'][0]].items()\n",
    "print(\"\\n\\n\")\n",
    "print(\"action1.as_dict()['change_bus_vect']['modif_subs_id']:{}\".format(action1.as_dict()['change_bus_vect']['modif_subs_id'][0]))\n",
    "print(\"\\n\\n\")\n",
    "print(action1.as_dict()['change_bus_vect'][action1.as_dict()['change_bus_vect']['modif_subs_id'][0]].items())"
   ],
   "metadata": {
    "collapsed": false,
    "pycharm": {
     "name": "#%%\n",
     "is_executing": false
    }
   }
  },
  {
   "cell_type": "code",
   "execution_count": 8,
   "outputs": [
    {
     "name": "stdout",
     "text": [
      "dict_items([('1', {'type': 'load'})])\n"
     ],
     "output_type": "stream"
    }
   ],
   "source": [
    "print(action1.as_dict()['change_bus_vect']['0'].items())"
   ],
   "metadata": {
    "collapsed": false,
    "pycharm": {
     "name": "#%%\n",
     "is_executing": false
    }
   }
  },
  {
   "cell_type": "code",
   "execution_count": 13,
   "outputs": [
    {
     "name": "stdout",
     "text": [
      "action1.to_vect(): [0. 0. 0. 0. 0. 0. 0. 0. 0. 0. 0. 0. 0. 0. 0. 0. 0. 0. 0. 0. 0. 0. 0. 0.\n 0. 0. 0. 0. 0. 0. 0. 0. 0. 0. 0. 0. 0. 0. 0. 0. 0. 0. 0. 0. 0. 0. 0. 0.\n 0. 0. 0. 0. 0. 0. 0. 0. 0. 0. 0. 0. 0. 0. 0. 0. 0. 0. 0. 0. 0. 0. 0. 0.\n 0. 0. 0. 0. 0. 0. 0. 0. 0. 0. 0. 0. 0. 0. 0. 0. 0. 0. 0. 0. 0. 0. 0. 0.\n 0. 0. 0. 0. 0. 0. 0. 0. 0. 0. 0. 0. 0. 0. 0. 0. 0. 0. 0. 0. 0. 0. 0. 0.\n 0. 0. 0. 0. 0. 0. 0. 0. 0. 0. 0. 0. 0. 0. 0. 0. 0. 0. 0. 0. 0. 0. 0. 0.\n 0. 0. 0. 0. 0. 0. 0. 0. 0. 0. 0. 0. 0. 0. 0. 0. 0. 0. 0. 0. 0. 0. 0. 0.\n 0. 0. 0. 0. 0. 0. 0. 0. 0. 0. 0. 0. 0. 0. 0. 0. 0. 0. 0. 0. 0. 0. 0. 0.\n 0. 0. 0. 0. 0. 0. 0. 0. 0. 0. 0. 0. 0. 0. 0. 0. 0. 0. 0. 0. 0. 0. 0. 0.\n 0. 0. 0. 0. 0. 0. 0. 0. 0. 0. 0. 0. 0. 0. 0. 0. 0. 0. 0. 0. 0. 0. 1. 0.\n 0. 0. 0. 0. 0. 0. 0. 0. 0. 0. 0. 0. 0. 0. 0. 0. 0. 0. 0. 0. 0. 0. 0. 0.\n 0. 0. 0. 0. 0. 0. 0. 0. 0. 0. 0. 0. 0. 0. 0. 0. 0. 0. 0. 0. 0. 0. 0. 0.\n 0. 0. 0. 0. 0. 0. 0. 0. 0. 0. 0. 0. 0. 0. 0. 0. 0. 0. 0. 0. 0. 0. 0. 0.\n 0. 0. 0. 0. 0. 0. 0. 0. 0. 0. 0. 0. 0. 0. 0. 0. 0. 0. 0. 0. 0. 0. 0. 0.\n 0. 0. 0. 0. 0. 0. 0. 0. 0. 0. 0. 0. 0. 0. 0. 0. 0. 0. 0. 0. 0. 0. 0. 0.\n 0. 0. 0. 0. 0. 0. 0. 0. 0. 0. 0. 0. 0. 0. 0. 0. 0. 0. 0. 0. 0. 0. 0. 0.\n 0. 0. 0. 0. 0. 0. 0. 0. 0. 0. 0. 0. 0. 0. 0. 0. 0. 0. 0. 0. 0. 0. 0. 0.\n 0. 0. 0. 0. 0. 0. 0. 0. 0. 0. 0. 0. 0. 0. 0. 0. 0. 0. 0. 0. 0. 0. 0. 0.\n 0. 0. 0. 0. 0. 0. 0. 0. 0. 0. 0. 0. 0. 0. 0. 0. 0. 0. 0. 0. 0. 0. 0. 0.\n 0. 0. 0. 0. 0. 0. 0. 0. 0. 0. 0. 0. 0. 0. 0. 0. 0. 0. 0. 0. 0. 0. 0. 0.\n 0. 0. 0. 0. 0. 0. 0. 0. 0. 0. 0. 0. 0. 0.]\naction1: This action will:\n\t - NOT change anything to the injections\n\t - NOT perform any redispatching action\n\t - NOT force any line status\n\t - NOT switch any line status\n\t - Change the bus of the following element:\n\t \t - switch bus of load 1 [on substation 0]\n\t - NOT force any particular bus configuration\naction1: ['_set_line_status', '_set_topo_vect', '_change_bus_vect', '_switch_line_status', '_redispatch']\n"
     ],
     "output_type": "stream"
    }
   ],
   "source": [
    "print(\"action1.to_vect(): {}\".format(action1.to_vect()))\n",
    "print(\"action1: {}\".format(action1))\n",
    "print(\"action1: {}\".format(action1.attr_list_vect))"
   ],
   "metadata": {
    "collapsed": false,
    "pycharm": {
     "name": "#%%\n",
     "is_executing": false
    }
   }
  },
  {
   "cell_type": "code",
   "execution_count": 10,
   "outputs": [
    {
     "name": "stdout",
     "text": [
      "obs_line: [ True  True  True  True  True  True  True  True  True  True  True  True\n  True  True  True  True  True  True  True  True  True  True  True  True\n  True  True  True  True  True  True  True  True  True  True  True  True\n  True  True  True  True  True  True  True  True  True False  True  True\n  True  True  True  True  True  True  True  True  True  True  True]\ndisconnected_lines: (array([ 0,  1,  2,  3,  4,  5,  6,  7,  8,  9, 10, 11, 12, 13, 14, 15, 16,\n       17, 18, 19, 20, 21, 22, 23, 24, 25, 26, 27, 28, 29, 30, 31, 32, 33,\n       34, 35, 36, 37, 38, 39, 40, 41, 42, 43, 44, 46, 47, 48, 49, 50, 51,\n       52, 53, 54, 55, 56, 57, 58], dtype=int64),)\n"
     ],
     "output_type": "stream"
    }
   ],
   "source": [
    "print(\"obs_line: {}\".format(obs.line_status))\n",
    "disconnected_lines = np.where(obs.line_status == True)\n",
    "print(\"disconnected_lines: {}\".format(disconnected_lines))"
   ],
   "metadata": {
    "collapsed": false,
    "pycharm": {
     "name": "#%%\n",
     "is_executing": false
    }
   }
  },
  {
   "cell_type": "code",
   "execution_count": 11,
   "outputs": [
    {
     "name": "stdout",
     "text": [
      "obs.time_before_cooldown_line: [0 0 0 0 0 0 0 0 0 0 0 0 0 0 0 0 0 0 0 0 0 0 0 0 0 0 0 0 0 0 0 0 0 0 0 0 0\n 0 0 0 0 0 0 0 0 3 0 0 0 0 0 0 0 0 0 0 0 0 0]\nlen(os.listdir(SCENARIO_PATH)): 2\n"
     ],
     "output_type": "stream"
    }
   ],
   "source": [
    "print(\"obs.time_before_cooldown_line: {}\".format(obs.time_before_cooldown_line))\n",
    "print(\"len(os.listdir(SCENARIO_PATH)): {}\".format(len(os.listdir(SCENARIO_PATH))))"
   ],
   "metadata": {
    "collapsed": false,
    "pycharm": {
     "name": "#%%\n",
     "is_executing": false
    }
   }
  },
  {
   "cell_type": "code",
   "execution_count": 12,
   "outputs": [
    {
     "name": "stdout",
     "text": [
      "obs.to_vect().shape: (1266,)\naction1.to_vect().shape: (494,)\n"
     ],
     "output_type": "stream"
    }
   ],
   "source": [
    "print(\"obs.to_vect().shape: {}\".format(obs.to_vect().shape))\n",
    "print(\"action1.to_vect().shape: {}\".format(action1.to_vect().shape))"
   ],
   "metadata": {
    "collapsed": false,
    "pycharm": {
     "name": "#%%\n",
     "is_executing": false
    }
   }
  },
  {
   "cell_type": "code",
   "execution_count": 12,
   "outputs": [],
   "source": [],
   "metadata": {
    "collapsed": false,
    "pycharm": {
     "name": "#%%\n",
     "is_executing": false
    }
   }
  }
 ],
 "metadata": {
  "language_info": {
   "codemirror_mode": {
    "name": "ipython",
    "version": 2
   },
   "file_extension": ".py",
   "mimetype": "text/x-python",
   "name": "python",
   "nbconvert_exporter": "python",
   "pygments_lexer": "ipython2",
   "version": "2.7.6"
  },
  "kernelspec": {
   "name": "python3",
   "language": "python",
   "display_name": "Python 3"
  },
  "pycharm": {
   "stem_cell": {
    "cell_type": "raw",
    "source": [],
    "metadata": {
     "collapsed": false
    }
   }
  }
 },
 "nbformat": 4,
 "nbformat_minor": 0
}